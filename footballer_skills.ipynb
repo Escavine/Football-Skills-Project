{
 "cells": [
  {
   "cell_type": "markdown",
   "id": "b2ad88b3",
   "metadata": {},
   "source": [
    "# Football Skills Program"
   ]
  },
  {
   "cell_type": "code",
   "execution_count": 1,
   "id": "c983267d",
   "metadata": {},
   "outputs": [],
   "source": [
    "# importing all prequisite libraries \n",
    "import time \n",
    "from datetime import datetime\n",
    "# from dateutil.relativedelta import relativedelta (future reference)"
   ]
  },
  {
   "cell_type": "code",
   "execution_count": 2,
   "id": "9a827d17",
   "metadata": {},
   "outputs": [],
   "source": [
    "Speed = 0\n",
    "Shooting = 0\n",
    "Passing = 0\n",
    "Defending = 0\n",
    "Dribbling = 0  \n",
    "Physicality = 0   # all necessary variable inputs\n",
    "overallRate = 0 \n",
    "Total = 0\n"
   ]
  },
  {
   "cell_type": "code",
   "execution_count": 3,
   "id": "df0a6088",
   "metadata": {},
   "outputs": [],
   "source": [
    "playerInfo = [] # this will store the playerID \n",
    "DOBs = [] # store the players date of birth \n",
    "listofOrder = [\"Speed? (0-5)\", \"Shooting? (0-5)\", \"Passing? (0-5)\", \"Defending? (0-5)\", \"Dribbling? (0-5)\", \"Physicality? (0-5)\"]\n",
    "playerList = [\"(Player 1) \", \"(Player 2)\", \"(Player 3)\"]\n",
    "name = [] # store the names of each -player into the array\n",
    "UID = [] # Store the unique ID of each individual \n",
    "salaryArray = [] # stores the players salaries based on their overaLLrate"
   ]
  },
  {
   "cell_type": "code",
   "execution_count": 4,
   "id": "e980cdb3",
   "metadata": {},
   "outputs": [
    {
     "name": "stdout",
     "output_type": "stream",
     "text": [
      "What is your name? (Player 1) Khalid\n",
      "(Player 1)  Khalid\n",
      "What is your playerID? (FORMAT 2 DIGITS) (Player 1) 20\n",
      "playerInfo  [20]\n",
      "Enter your date of birth (FORMAT YYYY-MM-DD)(Player 1) 2003-03-22\n",
      "What is your Speed? (0-5) 5\n",
      "What is your Shooting? (0-5) 5\n",
      "What is your Passing? (0-5) 5\n",
      "What is your Defending? (0-5) 5\n",
      "What is your Dribbling? (0-5) 3\n",
      "What is your Physicality? (0-5) 3\n",
      "Calculating...\n",
      "Your overall rating is 76.66666666666667 % (Player 1) \n",
      "What is your name? (Player 2)Mohamad\n",
      "(Player 2) Mohamad\n",
      "What is your playerID? (FORMAT 2 DIGITS) (Player 2)19\n",
      "playerInfo  [20, 19]\n",
      "Enter your date of birth (FORMAT YYYY-MM-DD)(Player 2)2003-03-22\n",
      "What is your Speed? (0-5) 3\n",
      "What is your Shooting? (0-5) 4\n",
      "What is your Passing? (0-5) 4\n",
      "What is your Defending? (0-5) 3\n",
      "What is your Dribbling? (0-5) 2\n",
      "What is your Physicality? (0-5) 4\n",
      "Calculating...\n",
      "Your overall rating is 0.0 % (Player 2)\n"
     ]
    },
    {
     "ename": "KeyboardInterrupt",
     "evalue": "Interrupted by user",
     "output_type": "error",
     "traceback": [
      "\u001b[0;31m---------------------------------------------------------------------------\u001b[0m",
      "\u001b[0;31mKeyboardInterrupt\u001b[0m                         Traceback (most recent call last)",
      "Cell \u001b[0;32mIn[4], line 81\u001b[0m\n\u001b[1;32m     78\u001b[0m         d, m, playerNum, a \u001b[38;5;241m=\u001b[39m counterIncrementer(d, m, playerNum, a)\n\u001b[1;32m     80\u001b[0m \u001b[38;5;28;01mif\u001b[39;00m \u001b[38;5;18m__name__\u001b[39m \u001b[38;5;241m==\u001b[39m \u001b[38;5;124m\"\u001b[39m\u001b[38;5;124m__main__\u001b[39m\u001b[38;5;124m\"\u001b[39m:\n\u001b[0;32m---> 81\u001b[0m     main()\n",
      "Cell \u001b[0;32mIn[4], line 74\u001b[0m, in \u001b[0;36mmain\u001b[0;34m()\u001b[0m\n\u001b[1;32m     71\u001b[0m IDQuery \u001b[38;5;241m=\u001b[39m \u001b[38;5;241m0\u001b[39m\n\u001b[1;32m     73\u001b[0m \u001b[38;5;28;01mwhile\u001b[39;00m playerNum \u001b[38;5;241m<\u001b[39m \u001b[38;5;241m3\u001b[39m:\n\u001b[0;32m---> 74\u001b[0m     player_id(UID, d)\n\u001b[1;32m     75\u001b[0m     age_determiner(m, playerBirthdayCount)\n\u001b[1;32m     76\u001b[0m     skills_collection(individualRating, c)\n",
      "Cell \u001b[0;32mIn[4], line 4\u001b[0m, in \u001b[0;36mplayer_id\u001b[0;34m(UID, d)\u001b[0m\n\u001b[1;32m      3\u001b[0m \u001b[38;5;28;01mdef\u001b[39;00m \u001b[38;5;21mplayer_id\u001b[39m(UID, d):\n\u001b[0;32m----> 4\u001b[0m     nameQuery \u001b[38;5;241m=\u001b[39m \u001b[38;5;28minput\u001b[39m(\u001b[38;5;124m\"\u001b[39m\u001b[38;5;124mWhat is your name? \u001b[39m\u001b[38;5;124m\"\u001b[39m \u001b[38;5;241m+\u001b[39m playerList[d])\n\u001b[1;32m      5\u001b[0m     \u001b[38;5;28mprint\u001b[39m(playerList[d] \u001b[38;5;241m+\u001b[39m \u001b[38;5;124m\"\u001b[39m\u001b[38;5;124m \u001b[39m\u001b[38;5;124m\"\u001b[39m \u001b[38;5;241m+\u001b[39m nameQuery)\n\u001b[1;32m      6\u001b[0m     name\u001b[38;5;241m.\u001b[39mappend(nameQuery) \u001b[38;5;66;03m# Store the name of each individual into the array\u001b[39;00m\n",
      "File \u001b[0;32m~/anaconda3/lib/python3.11/site-packages/ipykernel/kernelbase.py:1202\u001b[0m, in \u001b[0;36mKernel.raw_input\u001b[0;34m(self, prompt)\u001b[0m\n\u001b[1;32m   1200\u001b[0m     msg \u001b[38;5;241m=\u001b[39m \u001b[38;5;124m\"\u001b[39m\u001b[38;5;124mraw_input was called, but this frontend does not support input requests.\u001b[39m\u001b[38;5;124m\"\u001b[39m\n\u001b[1;32m   1201\u001b[0m     \u001b[38;5;28;01mraise\u001b[39;00m StdinNotImplementedError(msg)\n\u001b[0;32m-> 1202\u001b[0m \u001b[38;5;28;01mreturn\u001b[39;00m \u001b[38;5;28mself\u001b[39m\u001b[38;5;241m.\u001b[39m_input_request(\n\u001b[1;32m   1203\u001b[0m     \u001b[38;5;28mstr\u001b[39m(prompt),\n\u001b[1;32m   1204\u001b[0m     \u001b[38;5;28mself\u001b[39m\u001b[38;5;241m.\u001b[39m_parent_ident[\u001b[38;5;124m\"\u001b[39m\u001b[38;5;124mshell\u001b[39m\u001b[38;5;124m\"\u001b[39m],\n\u001b[1;32m   1205\u001b[0m     \u001b[38;5;28mself\u001b[39m\u001b[38;5;241m.\u001b[39mget_parent(\u001b[38;5;124m\"\u001b[39m\u001b[38;5;124mshell\u001b[39m\u001b[38;5;124m\"\u001b[39m),\n\u001b[1;32m   1206\u001b[0m     password\u001b[38;5;241m=\u001b[39m\u001b[38;5;28;01mFalse\u001b[39;00m,\n\u001b[1;32m   1207\u001b[0m )\n",
      "File \u001b[0;32m~/anaconda3/lib/python3.11/site-packages/ipykernel/kernelbase.py:1245\u001b[0m, in \u001b[0;36mKernel._input_request\u001b[0;34m(self, prompt, ident, parent, password)\u001b[0m\n\u001b[1;32m   1242\u001b[0m \u001b[38;5;28;01mexcept\u001b[39;00m \u001b[38;5;167;01mKeyboardInterrupt\u001b[39;00m:\n\u001b[1;32m   1243\u001b[0m     \u001b[38;5;66;03m# re-raise KeyboardInterrupt, to truncate traceback\u001b[39;00m\n\u001b[1;32m   1244\u001b[0m     msg \u001b[38;5;241m=\u001b[39m \u001b[38;5;124m\"\u001b[39m\u001b[38;5;124mInterrupted by user\u001b[39m\u001b[38;5;124m\"\u001b[39m\n\u001b[0;32m-> 1245\u001b[0m     \u001b[38;5;28;01mraise\u001b[39;00m \u001b[38;5;167;01mKeyboardInterrupt\u001b[39;00m(msg) \u001b[38;5;28;01mfrom\u001b[39;00m \u001b[38;5;28;01mNone\u001b[39;00m\n\u001b[1;32m   1246\u001b[0m \u001b[38;5;28;01mexcept\u001b[39;00m \u001b[38;5;167;01mException\u001b[39;00m:\n\u001b[1;32m   1247\u001b[0m     \u001b[38;5;28mself\u001b[39m\u001b[38;5;241m.\u001b[39mlog\u001b[38;5;241m.\u001b[39mwarning(\u001b[38;5;124m\"\u001b[39m\u001b[38;5;124mInvalid Message:\u001b[39m\u001b[38;5;124m\"\u001b[39m, exc_info\u001b[38;5;241m=\u001b[39m\u001b[38;5;28;01mTrue\u001b[39;00m)\n",
      "\u001b[0;31mKeyboardInterrupt\u001b[0m: Interrupted by user"
     ]
    }
   ],
   "source": [
    "# references the number of users\n",
    "\n",
    "def player_id(UID, d):\n",
    "    nameQuery = input(\"What is your name? \" + playerList[d])\n",
    "    print(playerList[d] + \" \" + nameQuery)\n",
    "    name.append(nameQuery) # Store the name of each individual into the array\n",
    "    UID = int(input(\"What is your playerID? (FORMAT 2 DIGITS) \" + playerList[d]))\n",
    "    if UID > 10 and UID < 100: # conditional robustness statements\n",
    "        playerInfo.append(UID) # stores the player ID's of the players\n",
    "        print(\"playerInfo \", playerInfo)\n",
    "    if UID < 10 and UID > 100:\n",
    "        print(\"Wrong format, playerID has to be two digits\")\n",
    "        \n",
    "        \n",
    "def age_determiner(m, playerBirthdayCount):\n",
    "    try:\n",
    "        dob_input = input(\"Enter your date of birth (FORMAT YYYY-MM-DD)\" + playerList[m])\n",
    "        dob_conversion = datetime.strptime(dob_input, \"%Y-%m-%d\")\n",
    "        DOBs.append(dob_conversion)\n",
    "        playerBirthdayCount += 1 # increment to the next individual\n",
    "    except ValueError:\n",
    "        print(\"Invalid birthday input, it should be in the format YYYY-MM-DD\")\n",
    "\n",
    "\n",
    "                    \n",
    "def skills_collection(individualRating, c):\n",
    "    for x in range(6):\n",
    "        x = int(input(\"What is your \" + listofOrder[c] + \" \"))\n",
    "        if 0 <= x <=5:\n",
    "            individualRating.append(x)\n",
    "            c += 1 # increment counter +1 to the next feature\n",
    "        else:\n",
    "            print(\"Error, number has to be between 0-5\")\n",
    "        \n",
    "        \n",
    "def calculate_rating(individualRating, overallRate, a):\n",
    "    playerTotal1 = sum(individualRating[0:5])\n",
    "    playerTotal2 = sum(individualRating[6:13])\n",
    "    playerTotal3 = sum(individualRating[13:])\n",
    "    \n",
    "    print(\"Calculating...\")\n",
    "\n",
    "    time.sleep(2)\n",
    "\n",
    "    overallRate1 = (playerTotal1 * 100/30) \n",
    "    overallRate2 = (playerTotal2 * 100/30) # overall rating for the players\n",
    "    overallRate3 = (playerTotal3 * 100/30) \n",
    "    \n",
    "    salaryArray.append(overallRate1) \n",
    "    salaryArray.append(overallRate2) # store these values into the array\n",
    "    salaryArray.append(overallRate3) \n",
    "    \n",
    "    print(\"Your overall rating is \" + str(salaryArray[a]) + \" %\", playerList[a])\n",
    "\n",
    "def counterIncrementer(d, m, playerNum, a):\n",
    "    d += 1\n",
    "    m += 1\n",
    "    a += 1\n",
    "    playerNum += 1 # player counter increments by 1 per count \n",
    "    return d, m, playerNum, a # return the updated values \n",
    "\n",
    "    \n",
    "def main():   # learnt from realpython.com\n",
    "    c = 0 # counter for player collection skills\n",
    "    d = 0 # counter for player number\n",
    "    m = 0 # counter for date of birth \n",
    "    a = 0 # counter for outputting overall rate \n",
    "    playerNum = 0\n",
    "    playerBirthdayCount = 0\n",
    "    individualRating = []\n",
    "    IDQuery = 0\n",
    "    \n",
    "    while playerNum < 3:\n",
    "        player_id(UID, d)\n",
    "        age_determiner(m, playerBirthdayCount)\n",
    "        skills_collection(individualRating, c)\n",
    "        calculate_rating(individualRating, overallRate, a)\n",
    "        d, m, playerNum, a = counterIncrementer(d, m, playerNum, a)\n",
    "\n",
    "if __name__ == \"__main__\":\n",
    "    main()"
   ]
  },
  {
   "cell_type": "code",
   "execution_count": 1,
   "id": "34a88c18",
   "metadata": {},
   "outputs": [
    {
     "ename": "SyntaxError",
     "evalue": "invalid syntax (2674717985.py, line 16)",
     "output_type": "error",
     "traceback": [
      "\u001b[0;36m  Cell \u001b[0;32mIn[1], line 16\u001b[0;36m\u001b[0m\n\u001b[0;31m    calculate_salary(j + 1, salaryArray, overallSalary) !\u001b[0m\n\u001b[0m                                                        ^\u001b[0m\n\u001b[0;31mSyntaxError\u001b[0m\u001b[0;31m:\u001b[0m invalid syntax\n"
     ]
    }
   ],
   "source": [
    "### conditional statements\n",
    "\n",
    "overallSalary = [1000, 700, 500, 400] # storing salaries into the list \n",
    "j = 0 # counter for the players overallrate \n",
    "\n",
    "def calculate_salary(j, salaryArray, overallSalary):\n",
    "    for i in range(3):\n",
    "        if salaryArray[j] >= 80:\n",
    "            print(overallSalary[0])\n",
    "            calculate_salary(j + 1, salaryArray, overallSalary)\n",
    "        elif 60 < salaryArray[j] < 80:\n",
    "            print(overallSalary[0], overallSalary[1])\n",
    "            calculate_salary(j + 1, salaryArray, overallSalary)\n",
    "        elif salaryArray[j] == 60:\n",
    "            print(overallSalary[1])\n",
    "            calculate_salary(j + 1, salaryArray, overallSalary) # recursive function to iterate the players\n",
    "        elif 45 < salaryArray[j] < 60:\n",
    "            print(overallSalary[1], overallSalary[2])\n",
    "            calculate_salary(j + 1, salaryArray, overallSalary)\n",
    "        elif salaryArray[j] == 45:\n",
    "            print(overallSalary[2])\n",
    "            calculate_salary(j + 1, salaryArray, overallSalary)\n",
    "        elif 30 < salaryArray[j] < 45:\n",
    "            print(overallSalary[2], overallSalary[3])\n",
    "            calculate_salary(j + 1, salaryArray, overallSalary)\n",
    "        elif salaryArray[j] <= 30:\n",
    "            print(overallSalary[3])\n",
    "            calculate_salary(j + 1, salaryArray, overallSalary)\n",
    "        \n",
    "calculate_salary(j, salaryArray, overallSalary) # function call for the calculate_salary function to output a given salary based on players capabilities\n"
   ]
  },
  {
   "cell_type": "code",
   "execution_count": 32,
   "id": "cd7c9b8f",
   "metadata": {},
   "outputs": [
    {
     "data": {
      "text/plain": [
       "'tac'"
      ]
     },
     "execution_count": 32,
     "metadata": {},
     "output_type": "execute_result"
    }
   ],
   "source": [
    "word = \"cat\"\n",
    "reversed_word = \"\"\n",
    "\n",
    "def recursive_reverse(word):\n",
    "    if word == \"\":\n",
    "        return word\n",
    "    else:\n",
    "        return recursive_reverse(word[1: ]) + (word[0])\n",
    "    \n",
    "recursive_reverse(word)"
   ]
  },
  {
   "cell_type": "code",
   "execution_count": null,
   "id": "8a76424d",
   "metadata": {},
   "outputs": [],
   "source": []
  }
 ],
 "metadata": {
  "kernelspec": {
   "display_name": "Python 3 (ipykernel)",
   "language": "python",
   "name": "python3"
  },
  "language_info": {
   "codemirror_mode": {
    "name": "ipython",
    "version": 3
   },
   "file_extension": ".py",
   "mimetype": "text/x-python",
   "name": "python",
   "nbconvert_exporter": "python",
   "pygments_lexer": "ipython3",
   "version": "3.11.5"
  }
 },
 "nbformat": 4,
 "nbformat_minor": 5
}
