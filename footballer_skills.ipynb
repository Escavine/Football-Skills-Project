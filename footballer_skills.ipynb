{
 "cells": [
  {
   "cell_type": "markdown",
   "id": "b2ad88b3",
   "metadata": {},
   "source": [
    "# Football Skills Program"
   ]
  },
  {
   "cell_type": "markdown",
   "id": "3c4d9d77",
   "metadata": {},
   "source": [
    "### Importing all prequisite libraries \n"
   ]
  },
  {
   "cell_type": "code",
   "execution_count": null,
   "id": "f214e90d",
   "metadata": {},
   "outputs": [],
   "source": [
    "import time \n",
    "from datetime import datetime\n"
   ]
  },
  {
   "cell_type": "code",
   "execution_count": 2,
   "id": "9a827d17",
   "metadata": {},
   "outputs": [],
   "source": [
    "Speed = 0\n",
    "Shooting = 0\n",
    "Passing = 0\n",
    "Defending = 0\n",
    "Dribbling = 0  \n",
    "Physicality = 0   # all necessary variable inputs\n",
    "overallRate = 0 \n",
    "Total = 0\n"
   ]
  },
  {
   "cell_type": "code",
   "execution_count": 3,
   "id": "df0a6088",
   "metadata": {},
   "outputs": [],
   "source": [
    "playerInfo = [] # this will store the playerID \n",
    "DOBs = [] # store the players date of birth \n",
    "listofOrder = [\"Speed? (0-5)\", \"Shooting? (0-5)\", \"Passing? (0-5)\", \"Defending? (0-5)\", \"Dribbling? (0-5)\", \"Physicality? (0-5)\"]\n",
    "playerList = [\"(Player 1) \", \"(Player 2)\", \"(Player 3)\"]\n",
    "name = [] # store the names of each -player into the array\n",
    "UID = [] # Store the unique ID of each individual \n",
    "salaryArray = [] # stores the players salaries based on their overaLLrate"
   ]
  },
  {
   "cell_type": "code",
   "execution_count": 4,
   "id": "e980cdb3",
   "metadata": {},
   "outputs": [
    {
     "name": "stdout",
     "output_type": "stream",
     "text": [
      "What is your name? (Player 1) Khalid\n",
      "(Player 1)  Khalid\n",
      "What is your playerID? (FORMAT 2 DIGITS) (Player 1) 22\n",
      "playerInfo  [22]\n",
      "Enter your date of birth (FORMAT YYYY-MM-DD)(Player 1) 2002-02-22\n",
      "What is your Speed? (0-5) 5\n",
      "What is your Shooting? (0-5) 5\n",
      "What is your Passing? (0-5) 4\n",
      "What is your Defending? (0-5) 5\n",
      "What is your Dribbling? (0-5) 5\n",
      "What is your Physicality? (0-5) 5\n",
      "Calculating...\n",
      "Your overall rating is 96.66666666666667 % (Player 1) \n",
      "What is your name? (Player 2)Mohamad\n",
      "(Player 2) Mohamad\n",
      "What is your playerID? (FORMAT 2 DIGITS) (Player 2)42\n",
      "playerInfo  [22, 42]\n",
      "Enter your date of birth (FORMAT YYYY-MM-DD)(Player 2)2002-02-23\n",
      "What is your Speed? (0-5) 5\n",
      "What is your Shooting? (0-5) 5\n",
      "What is your Passing? (0-5) 43\n",
      "Error, number has to be between 0-5\n",
      "What is your Passing? (0-5) 4\n",
      "What is your Defending? (0-5) 3\n",
      "What is your Dribbling? (0-5) 2\n",
      "Calculating...\n",
      "Your overall rating is 63.333333333333336 % (Player 2)\n",
      "What is your name? (Player 3)Nahed Uddin Jr.\n",
      "(Player 3) Nahed Uddin Jr.\n",
      "What is your playerID? (FORMAT 2 DIGITS) (Player 3)62\n",
      "playerInfo  [22, 42, 62]\n",
      "Enter your date of birth (FORMAT YYYY-MM-DD)(Player 3)2003-03-22\n",
      "What is your Speed? (0-5) 5\n",
      "What is your Shooting? (0-5) 5\n",
      "What is your Passing? (0-5) 5\n",
      "What is your Defending? (0-5) 3\n",
      "What is your Dribbling? (0-5) 4\n",
      "What is your Physicality? (0-5) 5\n",
      "Calculating...\n",
      "Your overall rating is 56.666666666666664 % (Player 3)\n"
     ]
    }
   ],
   "source": [
    "# references the number of users\n",
    "\n",
    "def player_id(UID, d):\n",
    "    nameQuery = input(\"What is your name? \" + playerList[d])\n",
    "    print(playerList[d] + \" \" + nameQuery)\n",
    "    name.append(nameQuery) # Store the name of each individual into the array\n",
    "    UID = int(input(\"What is your playerID? (FORMAT 2 DIGITS) \" + playerList[d]))\n",
    "    if UID > 10 and UID < 100: # conditional robustness statements\n",
    "        playerInfo.append(UID) # stores the player ID's of the players\n",
    "        print(\"playerInfo \", playerInfo)\n",
    "    if UID < 10 and UID > 100:\n",
    "        print(\"Wrong format, playerID has to be two digits\")\n",
    "        \n",
    "        \n",
    "def age_determiner(m, playerBirthdayCount):\n",
    "    try:\n",
    "        dob_input = input(\"Enter your date of birth (FORMAT YYYY-MM-DD)\" + playerList[m])\n",
    "        dob_conversion = datetime.strptime(dob_input, \"%Y-%m-%d\")\n",
    "        DOBs.append(dob_conversion)\n",
    "        playerBirthdayCount += 1 # increment to the next individual\n",
    "    except ValueError:\n",
    "        print(\"Invalid birthday input, it should be in the format YYYY-MM-DD\")\n",
    "\n",
    "\n",
    "                    \n",
    "def skills_collection(individualRating, c):\n",
    "    for x in range(6):\n",
    "        x = int(input(\"What is your \" + listofOrder[c] + \" \"))\n",
    "        if 0 <= x <=5:\n",
    "            individualRating.append(x)\n",
    "            c += 1 # increment counter +1 to the next feature\n",
    "        else:\n",
    "            print(\"Error, number has to be between 0-5\")\n",
    "        \n",
    "        \n",
    "def calculate_rating(individualRating, overallRate, a):\n",
    "    if a == 0:\n",
    "        playerTotal = sum(individualRating[:6])\n",
    "    elif a == 1:\n",
    "        playerTotal = sum(individualRating[6:13])\n",
    "    elif a == 2:\n",
    "        playerTotal = sum(individualRating[13:])\n",
    "    \n",
    "    print(\"Calculating...\")\n",
    "    time.sleep(2)\n",
    "\n",
    "    overallRate = (playerTotal * 100 / 30)\n",
    "    salaryArray.append(overallRate)\n",
    "    print(\"Your overall rating is \" + str(salaryArray[a]) + \" %\", playerList[a])\n",
    "\n",
    "def counterIncrementer(d, m, playerNum, a):\n",
    "    d += 1\n",
    "    m += 1\n",
    "    a += 1\n",
    "    playerNum += 1 # player counter increments by 1 per count \n",
    "    return d, m, playerNum, a # return the updated values \n",
    "\n",
    "    \n",
    "def main():   # learnt from realpython.com\n",
    "    c = 0 # counter for player collection skills\n",
    "    d = 0 # counter for player number\n",
    "    m = 0 # counter for date of birth \n",
    "    a = 0 # counter for outputting overall rate \n",
    "    playerNum = 0\n",
    "    playerBirthdayCount = 0\n",
    "    individualRating = []\n",
    "    IDQuery = 0\n",
    "    \n",
    "    while playerNum < 3:\n",
    "        player_id(UID, d)\n",
    "        age_determiner(m, playerBirthdayCount)\n",
    "        skills_collection(individualRating, c)\n",
    "        calculate_rating(individualRating, overallRate, a)\n",
    "        d, m, playerNum, a = counterIncrementer(d, m, playerNum, a)\n",
    "\n",
    "if __name__ == \"__main__\":\n",
    "    main()"
   ]
  },
  {
   "cell_type": "code",
   "execution_count": 6,
   "id": "39d7e580",
   "metadata": {},
   "outputs": [
    {
     "name": "stdout",
     "output_type": "stream",
     "text": [
      "1000\n",
      "1000 700\n",
      "700 500\n"
     ]
    }
   ],
   "source": [
    "# conditional statements\n",
    "\n",
    "overallSalary = [1000, 700, 500, 400] # storing salaries into the list \n",
    "j = 0 # counter for the players overallrate \n",
    "\n",
    "def calculate_salary(j, salaryArray, overallSalary):\n",
    "    if j < len(salaryArray):\n",
    "        if salaryArray[j] >= 80:\n",
    "            print(overallSalary[0])\n",
    "            calculate_salary(j + 1, salaryArray, overallSalary)\n",
    "        elif 60 < salaryArray[j] < 80:\n",
    "            print(overallSalary[0], overallSalary[1])\n",
    "            calculate_salary(j + 1, salaryArray, overallSalary)\n",
    "        elif salaryArray[j] == 60:\n",
    "            print(overallSalary[1])\n",
    "            calculate_salary(j + 1, salaryArray, overallSalary) # recursive function to iterate the players\n",
    "        elif 45 < salaryArray[j] < 60:\n",
    "            print(overallSalary[1], overallSalary[2])\n",
    "            calculate_salary(j + 1, salaryArray, overallSalary)\n",
    "        elif salaryArray[j] == 45:\n",
    "            print(overallSalary[2])\n",
    "            calculate_salary(j + 1, salaryArray, overallSalary)\n",
    "        elif 30 < salaryArray[j] < 45:\n",
    "            print(overallSalary[2], overallSalary[3])\n",
    "            calculate_salary(j + 1, salaryArray, overallSalary)\n",
    "        elif salaryArray[j] <= 30:\n",
    "            print(overallSalary[3])\n",
    "            calculate_salary(j + 1, salaryArray, overallSalary)\n",
    "        \n",
    "calculate_salary(j, salaryArray, overallSalary) # function call for the calculate_salary function to output a given salary based on players capabilities\n"
   ]
  },
  {
   "cell_type": "code",
   "execution_count": null,
   "id": "bcc7f4c2",
   "metadata": {},
   "outputs": [],
   "source": []
  }
 ],
 "metadata": {
  "kernelspec": {
   "display_name": "Python 3 (ipykernel)",
   "language": "python",
   "name": "python3"
  },
  "language_info": {
   "codemirror_mode": {
    "name": "ipython",
    "version": 3
   },
   "file_extension": ".py",
   "mimetype": "text/x-python",
   "name": "python",
   "nbconvert_exporter": "python",
   "pygments_lexer": "ipython3",
   "version": "3.11.5"
  }
 },
 "nbformat": 4,
 "nbformat_minor": 5
}
