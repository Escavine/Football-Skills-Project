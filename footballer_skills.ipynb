{
 "cells": [
  {
   "cell_type": "markdown",
   "id": "b2ad88b3",
   "metadata": {},
   "source": [
    "# Football Skills Program"
   ]
  },
  {
   "cell_type": "code",
   "execution_count": 23,
   "id": "c983267d",
   "metadata": {},
   "outputs": [],
   "source": [
    "# importing all prequisite libraries \n",
    "import time \n",
    "from datetime import datetime\n",
    "# from dateutil.relativedelta import relativedelta"
   ]
  },
  {
   "cell_type": "code",
   "execution_count": 24,
   "id": "49f5d162",
   "metadata": {},
   "outputs": [],
   "source": [
    "# required for the main() function, include that the main() function calls the other functions via function calls and transfers the values "
   ]
  },
  {
   "cell_type": "code",
   "execution_count": null,
   "id": "e980cdb3",
   "metadata": {},
   "outputs": [
    {
     "name": "stdout",
     "output_type": "stream",
     "text": [
      "What is your playerID (FORMAT 2 DIGITS ONLY) 12\n",
      "Enter your date of birth (FORMAT YYYY-MM-DD)2002-12-12\n",
      "Invalid birthday input, it should be in the format YYYY-MM-DD\n"
     ]
    }
   ],
   "source": [
    "Speed = 0\n",
    "Shooting = 0\n",
    "Passing = 0\n",
    "Defending = 0\n",
    "Dribbling = 0\n",
    "Physicality = 0\n",
    "playerID = 0\n",
    "DOB = 0\n",
    "userID = 0\n",
    "DOB_input = False\n",
    "\n",
    "c = 0\n",
    "\n",
    "individualRating = [] # empty array for individual rating which will append values\n",
    "\n",
    "wordofOrder = [\"What is your \", \"How efficient is your \"]\n",
    "listofOrder = [\"playerID (FORMAT 2 DIGITS ONLY)\", \"Speed? (0-5)\", \"Shooting (0-5)\", \"Passing (0-5)\", \"Dribbling (0-5)\", \"Physicality (0-5)\"]\n",
    "\n",
    "def main(individualRating, c):\n",
    "    for x in range(8):\n",
    "        while True:\n",
    "            x = input(wordofOrder[c] + listofOrder[c] + \" \")\n",
    "            if 100 < playerID < 10:\n",
    "                print(\"error with playerID, strictly only 2 digits\")\n",
    "            if 0 <= x <=5:\n",
    "                individualRating.append(x)\n",
    "                print(\"individualRating: \", individualRating) \n",
    "                c += 1 # increment counter +1 to the next feature\n",
    "            else:\n",
    "                print(\"Error, number has to be between 0-5\")\n",
    "\n",
    "                \n",
    "def age_determiner(userID, DOB):\n",
    "     while DOB_input == False:\n",
    "            try:\n",
    "                DOB_str = int(input(\"Enter your date of birth (FORMAT YYYY-MM-DD)\"))\n",
    "                DOB = datetime.strptime(DOB_str, \"%Y-%m-%d\") # asked chatGPT how to prevent input garbage for DOB\n",
    "                DOB_input = True\n",
    "                break\n",
    "                except ValueError:\n",
    "                    print(\"Invalid birthday input, it should be in the format YYYY-MM-DD\")\n",
    "\n",
    "\n",
    "\n",
    "main(individualRating, c) # function call for the individual skills collection \n",
    "age_determiner(userID, DOB) # "
   ]
  },
  {
   "cell_type": "code",
   "execution_count": null,
   "id": "c62af857",
   "metadata": {},
   "outputs": [],
   "source": [
    "overallRate = 0 \n",
    "\n",
    "def calculate_rating(skillsRating, overallRate):\n",
    "    Total = skillsRating[0] + skillsRating[1] + skillsRating[2] + skillsRating[3] + skillsRating[4] + skillsRating[5]\n",
    "    print(\"Calculating...\")\n",
    "\n",
    "    time.sleep(2)\n",
    "\n",
    "    overallRate = (Total * 100/30) #overall rating as a percentage\n",
    "\n",
    "    print(\"Your overall rating is \" + str(overallRate) + \" %\") #outputs the overall rating\n",
    "    \n",
    "calculate_rating(skillsRating, overallRate) #function call"
   ]
  },
  {
   "cell_type": "code",
   "execution_count": null,
   "id": "572958fd",
   "metadata": {},
   "outputs": [],
   "source": [
    "#conditional statements\n",
    "\n",
    "overallSalary = [1000, 700, 500, 400] #storing salaries into the list \n",
    "\n",
    "def calculate_salary(overallRate, overallSalary):\n",
    "    if overallRate >= 80:\n",
    "        print(overallSalary[0])\n",
    "    elif 60 < overallRate < 80:\n",
    "        print(overallSalary[0], overallSalary[1])\n",
    "    elif overallRate == 60:\n",
    "        print(overallSalary[1])\n",
    "    elif 45 < overallRate < 60:\n",
    "        print(overallSalary[1], overallSalary[2])\n",
    "    elif overallRate == 45:\n",
    "        print(overallSalary[2])\n",
    "    elif 30 < overallRate < 45:\n",
    "        print(overallSalary[2], overallSalary[3])\n",
    "    elif overallRate <= 30:\n",
    "        print(overallSalary[3])\n",
    "        \n",
    "calculate_salary(overallRate, overallSalary) #function call for the calculate_salary function to output a given salary based on players capabilities\n"
   ]
  },
  {
   "cell_type": "code",
   "execution_count": null,
   "id": "a4faf9f1",
   "metadata": {},
   "outputs": [],
   "source": []
  }
 ],
 "metadata": {
  "kernelspec": {
   "display_name": "Python 3 (ipykernel)",
   "language": "python",
   "name": "python3"
  },
  "language_info": {
   "codemirror_mode": {
    "name": "ipython",
    "version": 3
   },
   "file_extension": ".py",
   "mimetype": "text/x-python",
   "name": "python",
   "nbconvert_exporter": "python",
   "pygments_lexer": "ipython3",
   "version": "3.10.9"
  }
 },
 "nbformat": 4,
 "nbformat_minor": 5
}
