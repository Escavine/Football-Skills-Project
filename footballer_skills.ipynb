{
 "cells": [
  {
   "cell_type": "markdown",
   "id": "b2ad88b3",
   "metadata": {},
   "source": [
    "# Football Skills Program"
   ]
  },
  {
   "cell_type": "code",
   "execution_count": 15,
   "id": "d1755800",
   "metadata": {},
   "outputs": [],
   "source": [
    "import time # Name: Khalid Mohammed Miah, studentID: MIA236232202, Date of last update: 27/11/2023\n",
    "from datetime import datetime\n",
    "from tabulate import tabulate"
   ]
  },
  {
   "cell_type": "code",
   "execution_count": 16,
   "id": "9a827d17",
   "metadata": {},
   "outputs": [],
   "source": [
    "Speed = 0\n",
    "Shooting = 0\n",
    "Passing = 0\n",
    "Defending = 0\n",
    "Dribbling = 0  \n",
    "Physicality = 0   # all necessary variable inputs\n",
    "overallRate = 0 \n",
    "Total = 0\n"
   ]
  },
  {
   "cell_type": "code",
   "execution_count": 17,
   "id": "df0a6088",
   "metadata": {},
   "outputs": [],
   "source": [
    "playerInfo = [] # this will store the playerID \n",
    "DOBs = [] # store the players date of birth \n",
    "listofOrder = [\"Speed? (0-5)\", \"Shooting? (0-5)\", \"Passing? (0-5)\", \"Defending? (0-5)\", \"Dribbling? (0-5)\", \"Physicality? (0-5)\"]\n",
    "playerList = [\"(Player 1) \", \"(Player 2)\", \"(Player 3)\"]\n",
    "name = [] # store the names of each -player into the array\n",
    "UID = [] # Store the unique ID of each individual \n",
    "salaryArray = [] # stores the players salaries based on their overaLLrate"
   ]
  },
  {
   "cell_type": "code",
   "execution_count": 19,
   "id": "e980cdb3",
   "metadata": {},
   "outputs": [
    {
     "name": "stdout",
     "output_type": "stream",
     "text": [
      "What is your playerID? (FORMAT 2 DIGITS) (Player 1) 22\n",
      "playerInfo  [22]\n",
      "What is your name? (Player 1) Ryan\n",
      "(Player 1)  Ryan\n",
      "Enter your date of birth (FORMAT YYYY-MM-DD)(Player 1) 2009-02-22\n",
      "What is your Speed? (0-5) 5\n",
      "What is your Shooting? (0-5) 5\n",
      "What is your Passing? (0-5) 5\n",
      "What is your Defending? (0-5) 5\n",
      "What is your Dribbling? (0-5) 5\n",
      "What is your Physicality? (0-5) 5\n",
      "Calculating...\n",
      "Your overall rating is 100.0 % (Player 1) \n",
      "1000\n"
     ]
    },
    {
     "ename": "RecursionError",
     "evalue": "maximum recursion depth exceeded in comparison",
     "output_type": "error",
     "traceback": [
      "\u001b[0;31m---------------------------------------------------------------------------\u001b[0m",
      "\u001b[0;31mRecursionError\u001b[0m                            Traceback (most recent call last)",
      "Cell \u001b[0;32mIn[19], line 105\u001b[0m\n\u001b[1;32m    102\u001b[0m         d, m, playerNum, a \u001b[38;5;241m=\u001b[39m counterIncrementer(d, m, playerNum, a)\n\u001b[1;32m    104\u001b[0m \u001b[38;5;28;01mif\u001b[39;00m \u001b[38;5;18m__name__\u001b[39m \u001b[38;5;241m==\u001b[39m \u001b[38;5;124m\"\u001b[39m\u001b[38;5;124m__main__\u001b[39m\u001b[38;5;124m\"\u001b[39m:\n\u001b[0;32m--> 105\u001b[0m     main()\n",
      "Cell \u001b[0;32mIn[19], line 101\u001b[0m, in \u001b[0;36mmain\u001b[0;34m()\u001b[0m\n\u001b[1;32m     99\u001b[0m skills_collection(individualRating, c)\n\u001b[1;32m    100\u001b[0m calculate_rating(individualRating, overallRate, a)\n\u001b[0;32m--> 101\u001b[0m calculate_salary(j, salaryArray, overallSalary) \u001b[38;5;66;03m# function call for the calculate_salary function to output a given salary based on players capabilities\u001b[39;00m\n\u001b[1;32m    102\u001b[0m d, m, playerNum, a \u001b[38;5;241m=\u001b[39m counterIncrementer(d, m, playerNum, a)\n",
      "Cell \u001b[0;32mIn[19], line 72\u001b[0m, in \u001b[0;36mcalculate_salary\u001b[0;34m(j, salaryArray, overallSalary)\u001b[0m\n\u001b[1;32m     69\u001b[0m     \u001b[38;5;28;01melif\u001b[39;00m salaryArray[j] \u001b[38;5;241m<\u001b[39m\u001b[38;5;241m=\u001b[39m \u001b[38;5;241m30\u001b[39m:\n\u001b[1;32m     70\u001b[0m         \u001b[38;5;28mprint\u001b[39m(overallSalary[\u001b[38;5;241m3\u001b[39m])\n\u001b[0;32m---> 72\u001b[0m calculate_salary(j \u001b[38;5;241m+\u001b[39m \u001b[38;5;241m1\u001b[39m, salaryArray, overallSalary)\n",
      "Cell \u001b[0;32mIn[19], line 72\u001b[0m, in \u001b[0;36mcalculate_salary\u001b[0;34m(j, salaryArray, overallSalary)\u001b[0m\n\u001b[1;32m     69\u001b[0m     \u001b[38;5;28;01melif\u001b[39;00m salaryArray[j] \u001b[38;5;241m<\u001b[39m\u001b[38;5;241m=\u001b[39m \u001b[38;5;241m30\u001b[39m:\n\u001b[1;32m     70\u001b[0m         \u001b[38;5;28mprint\u001b[39m(overallSalary[\u001b[38;5;241m3\u001b[39m])\n\u001b[0;32m---> 72\u001b[0m calculate_salary(j \u001b[38;5;241m+\u001b[39m \u001b[38;5;241m1\u001b[39m, salaryArray, overallSalary)\n",
      "    \u001b[0;31m[... skipping similar frames: calculate_salary at line 72 (2969 times)]\u001b[0m\n",
      "Cell \u001b[0;32mIn[19], line 72\u001b[0m, in \u001b[0;36mcalculate_salary\u001b[0;34m(j, salaryArray, overallSalary)\u001b[0m\n\u001b[1;32m     69\u001b[0m     \u001b[38;5;28;01melif\u001b[39;00m salaryArray[j] \u001b[38;5;241m<\u001b[39m\u001b[38;5;241m=\u001b[39m \u001b[38;5;241m30\u001b[39m:\n\u001b[1;32m     70\u001b[0m         \u001b[38;5;28mprint\u001b[39m(overallSalary[\u001b[38;5;241m3\u001b[39m])\n\u001b[0;32m---> 72\u001b[0m calculate_salary(j \u001b[38;5;241m+\u001b[39m \u001b[38;5;241m1\u001b[39m, salaryArray, overallSalary)\n",
      "Cell \u001b[0;32mIn[19], line 56\u001b[0m, in \u001b[0;36mcalculate_salary\u001b[0;34m(j, salaryArray, overallSalary)\u001b[0m\n\u001b[1;32m     55\u001b[0m \u001b[38;5;28;01mdef\u001b[39;00m \u001b[38;5;21mcalculate_salary\u001b[39m(j, salaryArray, overallSalary):\n\u001b[0;32m---> 56\u001b[0m     \u001b[38;5;28;01mif\u001b[39;00m j \u001b[38;5;241m<\u001b[39m \u001b[38;5;28mlen\u001b[39m(salaryArray):\n\u001b[1;32m     57\u001b[0m         \u001b[38;5;28;01mif\u001b[39;00m salaryArray[j] \u001b[38;5;241m>\u001b[39m\u001b[38;5;241m=\u001b[39m \u001b[38;5;241m80\u001b[39m:\n\u001b[1;32m     58\u001b[0m             \u001b[38;5;28mprint\u001b[39m(overallSalary[\u001b[38;5;241m0\u001b[39m])\n",
      "\u001b[0;31mRecursionError\u001b[0m: maximum recursion depth exceeded in comparison"
     ]
    }
   ],
   "source": [
    "# references the number of users\n",
    "\n",
    "def player_id(UID, d):\n",
    "    UID = int(input(\"What is your playerID? (FORMAT 2 DIGITS) \" + playerList[d]))\n",
    "    if UID > 10 and UID < 100: # conditional robustness statements\n",
    "        playerInfo.append(UID) # stores the player ID's of the players\n",
    "        print(\"playerInfo \", playerInfo)\n",
    "    if UID < 10 and UID > 100:\n",
    "        print(\"Wrong format, playerID has to be two digits\")\n",
    "        player_ud(UID, d) # recursive call to ensure player enters the correct details\n",
    "    nameQuery = input(\"What is your name? \" + playerList[d])\n",
    "    print(playerList[d] + \" \" + nameQuery)\n",
    "    name.append(nameQuery) # Store the name of each individual into the array\n",
    "\n",
    "        \n",
    "        \n",
    "def age_determiner(m, playerBirthdayCount):\n",
    "    try:\n",
    "        dob_input = input(\"Enter your date of birth (FORMAT YYYY-MM-DD)\" + playerList[m])\n",
    "        dob_conversion = datetime.strptime(dob_input, \"%Y-%m-%d\")\n",
    "        DOBs.append(dob_conversion)\n",
    "        playerBirthdayCount += 1 # increment to the next individual\n",
    "    except ValueError:\n",
    "        print(\"Invalid birthday input, it should be in the format YYYY-MM-DD\")\n",
    "        age_determiner(m, playerBirthdayCount) # recursive call to ensure player enters the correct details\n",
    "\n",
    "\n",
    "                    \n",
    "def skills_collection(individualRating, c):\n",
    "    for x in range(6):\n",
    "        x = int(input(\"What is your \" + listofOrder[c] + \" \"))\n",
    "        if 0 <= x <=5:\n",
    "            individualRating.append(x)\n",
    "            c += 1 # increment counter +1 to the next feature\n",
    "        elif 6 < x < 0:\n",
    "            print(\"Error, number has to be between 0-5\")\n",
    "            skills_collection(individualRating, c) # recursive call to ensure player enters the correct details\n",
    "        \n",
    "        \n",
    "def calculate_rating(individualRating, overallRate, a):\n",
    "    if a == 0:\n",
    "        playerTotal = sum(individualRating[:6])\n",
    "    elif a == 1:\n",
    "        playerTotal = sum(individualRating[6:13])\n",
    "    elif a == 2:\n",
    "        playerTotal = sum(individualRating[13:])\n",
    "    print(\"Calculating...\")\n",
    "    time.sleep(2)\n",
    "\n",
    "    overallRate = (playerTotal * 100 / 30)\n",
    "    salaryArray.append(overallRate)\n",
    "    print(\"Your overall rating is \" + str(salaryArray[a]) + \" %\", playerList[a])\n",
    "    \n",
    "    \n",
    "def calculate_salary(j, salaryArray, overallSalary):\n",
    "    if j < len(salaryArray):\n",
    "        if salaryArray[j] >= 80:\n",
    "            print(overallSalary[0])\n",
    "            calculate_salary(j + 1, salaryArray, overallSalary) # recursive function to iterate the players\n",
    "        elif 60 < salaryArray[j] < 80:\n",
    "            print(overallSalary[0], overallSalary[1])\n",
    "            calculate_salary(j + 1, salaryArray, overallSalary) # recursive function to iterate the players\n",
    "        elif salaryArray[j] == 60:\n",
    "            print(overallSalary[1])\n",
    "            calculate_salary(j + 1, salaryArray, overallSalary) # recursive function to iterate the players\n",
    "        elif 45 < salaryArray[j] < 60:\n",
    "            print(overallSalary[1], overallSalary[2])\n",
    "            calculate_salary(j + 1, salaryArray, overallSalary) # recursive function to iterate the players\n",
    "        elif salaryArray[j] == 45:\n",
    "            print(overallSalary[2])\n",
    "            calculate_salary(j + 1, salaryArray, overallSalary) # recursive function to iterate the players\n",
    "        elif 30 < salaryArray[j] < 45:\n",
    "            print(overallSalary[2], overallSalary[3])\n",
    "            calculate_salary(j + 1, salaryArray, overallSalary) # recursive function to iterate the players\n",
    "        elif salaryArray[j] <= 30:\n",
    "            print(overallSalary[3])\n",
    "            calculate_salary(j + 1, salaryArray, overallSalary) # recursive function to iterate the players\n",
    "            \n",
    "            overallSalary[3].append\n",
    "\n",
    "\n",
    "def counterIncrementer(d, m, playerNum, a):\n",
    "    d += 1\n",
    "    m += 1\n",
    "    a += 1\n",
    "    playerNum += 1 # player counter increments by 1 per count \n",
    "    return d, m, playerNum, a # return the updated values \n",
    "\n",
    "    \n",
    "def main():   # learnt from realpython.com\n",
    "    c = 0 # counter for player collection skills\n",
    "    d = 0 # counter for player number\n",
    "    m = 0 # counter for date of birth \n",
    "    a = 0 # counter for outputting overall rate\n",
    "    j = 0 # counter for the players overallrate \n",
    "\n",
    "    playerNum = 0\n",
    "    playerBirthdayCount = 0\n",
    "    individualRating = []\n",
    "    overallSalary = [1000, 700, 500, 400] # storing salaries into the list     \n",
    "\n",
    "    IDQuery = 0\n",
    "    \n",
    "    while playerNum < 3:\n",
    "        player_id(UID, d)\n",
    "        age_determiner(m, playerBirthdayCount)\n",
    "        skills_collection(individualRating, c)\n",
    "        calculate_rating(individualRating, overallRate, a)\n",
    "        calculate_salary(j, salaryArray, overallSalary) # function call for the calculate_salary function to output a given salary based on players capabilities\n",
    "        d, m, playerNum, a = counterIncrementer(d, m, playerNum, a)\n",
    "\n",
    "if __name__ == \"__main__\":\n",
    "    main()"
   ]
  },
  {
   "cell_type": "code",
   "execution_count": 10,
   "id": "fedb7a6a",
   "metadata": {},
   "outputs": [
    {
     "name": "stdout",
     "output_type": "stream",
     "text": [
      "1000\n",
      "1000\n",
      "500 400\n"
     ]
    }
   ],
   "source": [
    "# conditional statements\n",
    "\n",
    "\n",
    "\n",
    "        \n"
   ]
  },
  {
   "cell_type": "markdown",
   "id": "6128fdb6",
   "metadata": {},
   "source": [
    "## Tabulation of table + file reading and writing"
   ]
  },
  {
   "cell_type": "code",
   "execution_count": 42,
   "id": "9e82a15f",
   "metadata": {
    "scrolled": false
   },
   "outputs": [
    {
     "name": "stdout",
     "output_type": "stream",
     "text": [
      "╒═══════╤════════╤═════════╤═════════╤════════════╤═══════════╤═════════════╤═════════════╤═══════════════╕\n",
      "│ UID   │ Name   │ D.o.B   │ Speed   │ Shooting   │ Passing   │ Defending   │ Dribbling   │ Physicality   │\n",
      "╞═══════╪════════╪═════════╪═════════╪════════════╪═══════════╪═════════════╪═════════════╪═══════════════╡\n",
      "╘═══════╧════════╧═════════╧═════════╧════════════╧═══════════╧═════════════╧═════════════╧═══════════════╛\n"
     ]
    }
   ],
   "source": [
    "def table_tabulation(individualRating):\n",
    "    table_data = list(enumerate(individualRating, start=1))\n",
    "    table = tabulate(table_data, headers=[\"UID\", \"Name\", \"D.o.B\", \"Speed\", \"Shooting\", \"Passing\", \"Defending\", \"Dribbling\", \"Physicality\"], tablefmt=\"fancy_grid\")\n",
    "    print(table)\n",
    "\n",
    "table_tabulation(individualRating)\n",
    "\n",
    "\n",
    "\n",
    "\n",
    "\n",
    "\n"
   ]
  },
  {
   "cell_type": "code",
   "execution_count": null,
   "id": "3ba98e9d",
   "metadata": {},
   "outputs": [],
   "source": []
  }
 ],
 "metadata": {
  "kernelspec": {
   "display_name": "Python 3 (ipykernel)",
   "language": "python",
   "name": "python3"
  },
  "language_info": {
   "codemirror_mode": {
    "name": "ipython",
    "version": 3
   },
   "file_extension": ".py",
   "mimetype": "text/x-python",
   "name": "python",
   "nbconvert_exporter": "python",
   "pygments_lexer": "ipython3",
   "version": "3.11.5"
  }
 },
 "nbformat": 4,
 "nbformat_minor": 5
}
