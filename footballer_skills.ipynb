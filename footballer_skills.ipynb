{
 "cells": [
  {
   "cell_type": "markdown",
   "id": "b2ad88b3",
   "metadata": {},
   "source": [
    "# Football Skills Program"
   ]
  },
  {
   "cell_type": "code",
   "execution_count": 54,
   "id": "c983267d",
   "metadata": {},
   "outputs": [],
   "source": [
    "# importing all prequisite libraries \n",
    "import time \n",
    "from datetime import datetime\n",
    "# from dateutil.relativedelta import relativedelta (future reference)"
   ]
  },
  {
   "cell_type": "code",
   "execution_count": 55,
   "id": "9a827d17",
   "metadata": {},
   "outputs": [],
   "source": [
    "Speed = 0\n",
    "Shooting = 0\n",
    "Passing = 0\n",
    "Defending = 0\n",
    "Dribbling = 0  \n",
    "Physicality = 0   # all necessary variable inputs\n",
    "DOB = \"\"\n",
    "UID = 0\n",
    "c = 0\n",
    "playerNum = 0\n",
    "individualRating = [] # empty array for individual rating which will append values\n",
    "playerInfo = [] # this will store the playerID \n",
    "listofOrder = [\"Speed? (0-5)\", \"Shooting? (0-5)\", \"Passing? (0-5)\", \"Defending? (0-5)\", \"Dribbling? (0-5)\", \"Physicality? (0-5)\"]"
   ]
  },
  {
   "cell_type": "code",
   "execution_count": null,
   "id": "e980cdb3",
   "metadata": {},
   "outputs": [
    {
     "name": "stdout",
     "output_type": "stream",
     "text": [
      "What is your full name?Khalid Miah\n",
      "What is your playerID? (FORMAT 2 DIGITS) 20\n",
      "playerInfo  [20]\n",
      "Enter your date of birth (FORMAT YYYY-MM-DD)2001-02-22\n",
      "What is your Speed? (0-5) 5\n",
      "individualRating:  [5]\n",
      "What is your Shooting? (0-5) 5\n",
      "individualRating:  [5, 5]\n",
      "What is your Passing? (0-5) 5\n",
      "individualRating:  [5, 5, 5]\n",
      "What is your Defending? (0-5) 5\n",
      "individualRating:  [5, 5, 5, 5]\n",
      "What is your Dribbling? (0-5) 5\n",
      "individualRating:  [5, 5, 5, 5, 5]\n",
      "What is your Physicality? (0-5) 5\n",
      "individualRating:  [5, 5, 5, 5, 5, 5]\n",
      "What is your full name?5\n",
      "What is your playerID? (FORMAT 2 DIGITS) 22\n",
      "playerInfo  [20, 22]\n",
      "Enter your date of birth (FORMAT YYYY-MM-DD)2001-02-22\n",
      "What is your Speed? (0-5) 5\n",
      "individualRating:  [5, 5, 5, 5, 5, 5, 5]\n",
      "What is your Shooting? (0-5) 5\n",
      "individualRating:  [5, 5, 5, 5, 5, 5, 5, 5]\n",
      "What is your Passing? (0-5) 3\n",
      "individualRating:  [5, 5, 5, 5, 5, 5, 5, 5, 3]\n",
      "What is your Defending? (0-5) 4\n",
      "individualRating:  [5, 5, 5, 5, 5, 5, 5, 5, 3, 4]\n",
      "What is your Dribbling? (0-5) 5\n",
      "individualRating:  [5, 5, 5, 5, 5, 5, 5, 5, 3, 4, 5]\n",
      "What is your Physicality? (0-5) 5\n",
      "individualRating:  [5, 5, 5, 5, 5, 5, 5, 5, 3, 4, 5, 5]\n",
      "What is your full name?Khalid\n",
      "What is your playerID? (FORMAT 2 DIGITS) 22\n",
      "playerInfo  [20, 22, 22]\n",
      "Enter your date of birth (FORMAT YYYY-MM-DD)2001-02-22\n",
      "What is your Speed? (0-5) 2\n",
      "individualRating:  [5, 5, 5, 5, 5, 5, 5, 5, 3, 4, 5, 5, 2]\n",
      "What is your Shooting? (0-5) 3\n",
      "individualRating:  [5, 5, 5, 5, 5, 5, 5, 5, 3, 4, 5, 5, 2, 3]\n",
      "What is your Passing? (0-5) 4\n",
      "individualRating:  [5, 5, 5, 5, 5, 5, 5, 5, 3, 4, 5, 5, 2, 3, 4]\n",
      "What is your Defending? (0-5) 2\n",
      "individualRating:  [5, 5, 5, 5, 5, 5, 5, 5, 3, 4, 5, 5, 2, 3, 4, 2]\n",
      "What is your Dribbling? (0-5) 1\n",
      "individualRating:  [5, 5, 5, 5, 5, 5, 5, 5, 3, 4, 5, 5, 2, 3, 4, 2, 1]\n",
      "What is your Physicality? (0-5) 2\n",
      "individualRating:  [5, 5, 5, 5, 5, 5, 5, 5, 3, 4, 5, 5, 2, 3, 4, 2, 1, 2]\n",
      "What is your full name?3\n"
     ]
    }
   ],
   "source": [
    "# references the number of users\n",
    "\n",
    "\n",
    "def player_id(UID):\n",
    "    name = input(\"What is your full name?\")\n",
    "    UID = int(input(\"What is your playerID? (FORMAT 2 DIGITS) \"))\n",
    "    if UID > 10 and UID < 100:\n",
    "        playerInfo.append(UID)\n",
    "        print(\"playerInfo \", playerInfo)\n",
    "    if UID < 10 and UID > 100:\n",
    "        print(\"Wrong format, playerID has to be two digits\")\n",
    "\n",
    "def age_determiner(DOB):\n",
    "    while True:\n",
    "        try:\n",
    "            DOB = input(\"Enter your date of birth (FORMAT YYYY-MM-DD)\")\n",
    "            DOB = datetime.strptime(DOB, \"%Y-%m-%d\") # ChatGPT Prompt: How to mitigate input garbage for DOB\n",
    "            DOB_input = True\n",
    "            break\n",
    "        except ValueError:\n",
    "            print(\"Invalid birthday input, it should be in the format YYYY-MM-DD\")\n",
    "\n",
    "                    \n",
    "def skills_collection(individualRating, c):\n",
    "    for x in range(6):\n",
    "        x = int(input(\"What is your \" + listofOrder[c] + \" \"))\n",
    "        if 0 <= x <=5:\n",
    "            individualRating.append(x)\n",
    "            print(\"individualRating: \", individualRating) \n",
    "            c += 1 # increment counter +1 to the next feature\n",
    "        else:\n",
    "            print(\"Error, number has to be between 0-5\")\n",
    "            \n",
    "playerNum += 1\n",
    "                \n",
    "            \n",
    "def main():\n",
    "    while playerNum < 3:\n",
    "        player_id(UID)\n",
    "        age_determiner(DOB)\n",
    "        skills_collection(individualRating, c)\n",
    "\n",
    "if __name__ == \"__main__\":\n",
    "    main()"
   ]
  },
  {
   "cell_type": "code",
   "execution_count": 26,
   "id": "d7656970",
   "metadata": {},
   "outputs": [
    {
     "name": "stdout",
     "output_type": "stream",
     "text": [
      "Calculating...\n",
      "Your overall rating is 70.0 %\n"
     ]
    }
   ],
   "source": [
    "overallRate = 0 \n",
    "\n",
    "def calculate_rating(individualRating, overallRate):\n",
    "    Total = individualRating[0] + individualRating[1] + individualRating[2] + individualRating[3] + individualRating[4] + individualRating[5]\n",
    "    print(\"Calculating...\")\n",
    "\n",
    "    time.sleep(2)\n",
    "\n",
    "    overallRate = (Total * 100/30) #overall rating as a percentage\n",
    "\n",
    "    print(\"Your overall rating is \" + str(overallRate) + \" %\") #outputs the overall rating\n",
    "    \n",
    "calculate_rating(individualRating, overallRate) #function call"
   ]
  },
  {
   "cell_type": "code",
   "execution_count": 27,
   "id": "572958fd",
   "metadata": {},
   "outputs": [
    {
     "name": "stdout",
     "output_type": "stream",
     "text": [
      "400\n"
     ]
    }
   ],
   "source": [
    "#conditional statements\n",
    "\n",
    "overallSalary = [1000, 700, 500, 400] #storing salaries into the list \n",
    "\n",
    "def calculate_salary(overallRate, overallSalary):\n",
    "    if overallRate >= 80:\n",
    "        print(overallSalary[0])\n",
    "    elif 60 < overallRate < 80:\n",
    "        print(overallSalary[0], overallSalary[1])\n",
    "    elif overallRate == 60:\n",
    "        print(overallSalary[1])\n",
    "    elif 45 < overallRate < 60:\n",
    "        print(overallSalary[1], overallSalary[2])\n",
    "    elif overallRate == 45:\n",
    "        print(overallSalary[2])\n",
    "    elif 30 < overallRate < 45:\n",
    "        print(overallSalary[2], overallSalary[3])\n",
    "    elif overallRate <= 30:\n",
    "        print(overallSalary[3])\n",
    "        \n",
    "calculate_salary(overallRate, overallSalary) #function call for the calculate_salary function to output a given salary based on players capabilities\n"
   ]
  },
  {
   "cell_type": "code",
   "execution_count": null,
   "id": "a4faf9f1",
   "metadata": {},
   "outputs": [],
   "source": []
  }
 ],
 "metadata": {
  "kernelspec": {
   "display_name": "Python 3 (ipykernel)",
   "language": "python",
   "name": "python3"
  },
  "language_info": {
   "codemirror_mode": {
    "name": "ipython",
    "version": 3
   },
   "file_extension": ".py",
   "mimetype": "text/x-python",
   "name": "python",
   "nbconvert_exporter": "python",
   "pygments_lexer": "ipython3",
   "version": "3.11.5"
  }
 },
 "nbformat": 4,
 "nbformat_minor": 5
}
