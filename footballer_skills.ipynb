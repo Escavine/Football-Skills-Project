{
 "cells": [
  {
   "cell_type": "markdown",
   "id": "b2ad88b3",
   "metadata": {},
   "source": [
    "# Football Skills Program"
   ]
  },
  {
   "cell_type": "code",
   "execution_count": 119,
   "id": "c983267d",
   "metadata": {},
   "outputs": [],
   "source": [
    "# importing all prequisite libraries \n",
    "import time \n",
    "from datetime import datetime\n",
    "# from dateutil.relativedelta import relativedelta (future reference)"
   ]
  },
  {
   "cell_type": "code",
   "execution_count": 120,
   "id": "9a827d17",
   "metadata": {},
   "outputs": [],
   "source": [
    "Speed = 0\n",
    "Shooting = 0\n",
    "Passing = 0\n",
    "Defending = 0\n",
    "Dribbling = 0  \n",
    "Physicality = 0   # all necessary variable inputs\n",
    "UID = 0\n",
    "c = 0 # counter for player collection skills\n",
    "d = 0 # counter for player number\n",
    "m = 0 # counter for date of birth \n",
    "playerNum = 0\n",
    "playerBirthdayCount = 0 # counting for 3 players birthdays"
   ]
  },
  {
   "cell_type": "code",
   "execution_count": null,
   "id": "df0a6088",
   "metadata": {},
   "outputs": [],
   "source": [
    "individualRating = [] # empty array for individual rating which will append values\n",
    "playerInfo = [] # this will store the playerID \n",
    "DOBs = [] # store the players date of birth \n",
    "listofOrder = [\"Speed? (0-5)\", \"Shooting? (0-5)\", \"Passing? (0-5)\", \"Defending? (0-5)\", \"Dribbling? (0-5)\", \"Physicality? (0-5)\"]\n",
    "playerList = [\"(Player 1) \", \"(Player 2)\", \"(Player 3)\"]"
   ]
  },
  {
   "cell_type": "code",
   "execution_count": null,
   "id": "e980cdb3",
   "metadata": {},
   "outputs": [
    {
     "name": "stdout",
     "output_type": "stream",
     "text": [
      "What is your name? (Player 1) Khalid\n",
      "(Player 1)  Khalid\n",
      "What is your playerID? (FORMAT 2 DIGITS) (Player 1) 22\n",
      "playerInfo  [22]\n",
      "What is your name? (Player 2)Mohamad\n",
      "(Player 2) Mohamad\n",
      "What is your playerID? (FORMAT 2 DIGITS) (Player 2)42\n",
      "playerInfo  [22, 42]\n",
      "What is your name? (Player 3)Nahed\n",
      "(Player 3) Nahed\n",
      "What is your playerID? (FORMAT 2 DIGITS) (Player 3)66\n",
      "playerInfo  [22, 42, 66]\n",
      "Enter your date of birth (FORMAT YYYY-MM-DD)(Player 1) 2002-02-22\n",
      "Enter your date of birth (FORMAT YYYY-MM-DD)(Player 2)2005-12-02\n",
      "Enter your date of birth (FORMAT YYYY-MM-DD)(Player 3)2001-11-22\n"
     ]
    }
   ],
   "source": [
    "# references the number of users\n",
    "\n",
    "def player_id(UID, d):\n",
    "    for x in range(3):\n",
    "        name = input(\"What is your name? \" + playerList[d])\n",
    "        print(playerList[d] + \" \" + name)\n",
    "        UID = int(input(\"What is your playerID? (FORMAT 2 DIGITS) \" + playerList[d]))\n",
    "        if UID > 10 and UID < 100: # conditional robustness statements\n",
    "            playerInfo.append(UID)\n",
    "            print(\"playerInfo \", playerInfo)\n",
    "        if UID < 10 and UID > 100:\n",
    "            print(\"Wrong format, playerID has to be two digits\")\n",
    "        d += 1 # increment to the next player number\n",
    "        \n",
    "        \n",
    "        \n",
    "def age_determiner(m, playerBirthdayCount):\n",
    "    while True:\n",
    "        try:\n",
    "            while playerBirthdayCount < 3:\n",
    "                dob_input = input(\"Enter your date of birth (FORMAT YYYY-MM-DD)\" + playerList[m])\n",
    "                dob_conversion = datetime.strptime(dob_input, \"%Y-%m-%d\")\n",
    "                DOBs.append(dob_conversion)\n",
    "                m += 1 # increment m to the next player on the list\n",
    "                playerBirthdayCount += 1 # increment to the next individual\n",
    "        except ValueError:\n",
    "            print(\"Invalid birthday input, it should be in the format YYYY-MM-DD\")\n",
    "\n",
    "\n",
    "                    \n",
    "def skills_collection(individualRating, c):\n",
    "    for x in range(6):\n",
    "        x = int(input(\"What is your \" + listofOrder[c] + \" \"))\n",
    "        if 0 <= x <=5:\n",
    "            individualRating.append(x)\n",
    "            c += 1 # increment counter +1 to the next feature\n",
    "        else:\n",
    "            print(\"Error, number has to be between 0-5\")\n",
    "            \n",
    "            \n",
    "            \n",
    "def main():  # learnt from realpython.com\n",
    "    while playerNum < 3:\n",
    "        player_id(UID, d)\n",
    "        age_determiner(m, playerBirthdayCount)\n",
    "        skills_collection(individualRating, c)\n",
    "        \n",
    "if __name__ == \"__main__\":\n",
    "    main()"
   ]
  },
  {
   "cell_type": "code",
   "execution_count": 26,
   "id": "d7656970",
   "metadata": {},
   "outputs": [
    {
     "name": "stdout",
     "output_type": "stream",
     "text": [
      "Calculating...\n",
      "Your overall rating is 70.0 %\n"
     ]
    }
   ],
   "source": [
    "overallRate = 0 \n",
    "\n",
    "def calculate_rating(individualRating, overallRate):\n",
    "    playerTotal1 = individualRating[0] + individualRating[1] + individualRating[2] + individualRating[3] + individualRating[4] + individualRating[5]\n",
    "    playerTotal2 = individualRating[6] + individualRating[7] + individualRating[8] + individualRating[9] + individualRating[10] + individualRating[11]\n",
    "    playerTotal3 = individualRating[12] + individualRating[13] + individualRating[14] + individualRating[15] + individualRating[16] + individualRating[17]\n",
    "    print(\"Calculating...\")\n",
    "\n",
    "    time.sleep(2)\n",
    "\n",
    "    overallRate = (Total * 100/30) #overall rating as a percentage\n",
    "\n",
    "    print(\"Your overall rating is \" + str(overallRate) + \" %\") #outputs the overall rating\n",
    "    \n",
    "calculate_rating(individualRating, overallRate) #function call"
   ]
  },
  {
   "cell_type": "code",
   "execution_count": 27,
   "id": "572958fd",
   "metadata": {},
   "outputs": [
    {
     "name": "stdout",
     "output_type": "stream",
     "text": [
      "400\n"
     ]
    }
   ],
   "source": [
    "#conditional statements\n",
    "\n",
    "overallSalary = [1000, 700, 500, 400] #storing salaries into the list \n",
    "\n",
    "def calculate_salary(overallRate, overallSalary):\n",
    "    if overallRate >= 80:\n",
    "        print(overallSalary[0])\n",
    "    elif 60 < overallRate < 80:\n",
    "        print(overallSalary[0], overallSalary[1])\n",
    "    elif overallRate == 60:\n",
    "        print(overallSalary[1])\n",
    "    elif 45 < overallRate < 60:\n",
    "        print(overallSalary[1], overallSalary[2])\n",
    "    elif overallRate == 45:\n",
    "        print(overallSalary[2])\n",
    "    elif 30 < overallRate < 45:\n",
    "        print(overallSalary[2], overallSalary[3])\n",
    "    elif overallRate <= 30:\n",
    "        print(overallSalary[3])\n",
    "        \n",
    "calculate_salary(overallRate, overallSalary) #function call for the calculate_salary function to output a given salary based on players capabilities\n"
   ]
  },
  {
   "cell_type": "code",
   "execution_count": null,
   "id": "a4faf9f1",
   "metadata": {},
   "outputs": [],
   "source": []
  }
 ],
 "metadata": {
  "kernelspec": {
   "display_name": "Python 3 (ipykernel)",
   "language": "python",
   "name": "python3"
  },
  "language_info": {
   "codemirror_mode": {
    "name": "ipython",
    "version": 3
   },
   "file_extension": ".py",
   "mimetype": "text/x-python",
   "name": "python",
   "nbconvert_exporter": "python",
   "pygments_lexer": "ipython3",
   "version": "3.11.5"
  }
 },
 "nbformat": 4,
 "nbformat_minor": 5
}
