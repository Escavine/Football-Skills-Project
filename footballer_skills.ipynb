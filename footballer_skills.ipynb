{
 "cells": [
  {
   "cell_type": "markdown",
   "id": "b2ad88b3",
   "metadata": {},
   "source": [
    "# Football Skills Program"
   ]
  },
  {
   "cell_type": "code",
   "execution_count": null,
   "id": "c983267d",
   "metadata": {},
   "outputs": [],
   "source": [
    "# importing all prequisite libraries \n",
    "import time \n",
    "from datetime import datetime\n",
    "# from dateutil.relativedelta import relativedelta (future reference)"
   ]
  },
  {
   "cell_type": "code",
   "execution_count": null,
   "id": "9a827d17",
   "metadata": {},
   "outputs": [],
   "source": [
    "Speed = 0\n",
    "Shooting = 0\n",
    "Passing = 0\n",
    "Defending = 0\n",
    "Dribbling = 0  \n",
    "Physicality = 0   # all necessary variable inputs\n",
    "overallRate = 0 \n",
    "Total = 0\n"
   ]
  },
  {
   "cell_type": "code",
   "execution_count": null,
   "id": "df0a6088",
   "metadata": {},
   "outputs": [],
   "source": [
    "playerInfo = [] # this will store the playerID \n",
    "DOBs = [] # store the players date of birth \n",
    "listofOrder = [\"Speed? (0-5)\", \"Shooting? (0-5)\", \"Passing? (0-5)\", \"Defending? (0-5)\", \"Dribbling? (0-5)\", \"Physicality? (0-5)\"]\n",
    "playerList = [\"(Player 1) \", \"(Player 2)\", \"(Player 3)\"]\n",
    "name = [] # store the names of each -player into the array\n",
    "UID = [] # Store the unique ID of each individual \n",
    "salaryArray = [] # stores the players salaries based on their overaLLrate"
   ]
  },
  {
   "cell_type": "code",
   "execution_count": null,
   "id": "e980cdb3",
   "metadata": {},
   "outputs": [],
   "source": [
    "# references the number of users\n",
    "\n",
    "def player_id(UID, d):\n",
    "    nameQuery = input(\"What is your name? \" + playerList[d])\n",
    "    print(playerList[d] + \" \" + nameQuery)\n",
    "    name.append(nameQuery) # Store the name of each individual into the array\n",
    "    UID = int(input(\"What is your playerID? (FORMAT 2 DIGITS) \" + playerList[d]))\n",
    "    if UID > 10 and UID < 100: # conditional robustness statements\n",
    "        playerInfo.append(UID) # stores the player ID's of the players\n",
    "        print(\"playerInfo \", playerInfo)\n",
    "    if UID < 10 and UID > 100:\n",
    "        print(\"Wrong format, playerID has to be two digits\")\n",
    "        \n",
    "        \n",
    "def age_determiner(m, playerBirthdayCount):\n",
    "    try:\n",
    "        dob_input = input(\"Enter your date of birth (FORMAT YYYY-MM-DD)\" + playerList[m])\n",
    "        dob_conversion = datetime.strptime(dob_input, \"%Y-%m-%d\")\n",
    "        DOBs.append(dob_conversion)\n",
    "        playerBirthdayCount += 1 # increment to the next individual\n",
    "    except ValueError:\n",
    "        print(\"Invalid birthday input, it should be in the format YYYY-MM-DD\")\n",
    "\n",
    "\n",
    "                    \n",
    "def skills_collection(individualRating, c):\n",
    "    for x in range(6):\n",
    "        x = int(input(\"What is your \" + listofOrder[c] + \" \"))\n",
    "        if 0 <= x <=5:\n",
    "            individualRating.append(x)\n",
    "            c += 1 # increment counter +1 to the next feature\n",
    "        else:\n",
    "            print(\"Error, number has to be between 0-5\")\n",
    "        \n",
    "        \n",
    "def calculate_rating(individualRating, overallRate, a):\n",
    "    playerTotal1 = sum(individualRating[:6])\n",
    "    playerTotal2 = sum(individualRating[6:12])\n",
    "    playerTotal3 = sum(individualRating[12:])\n",
    "    \n",
    "    print(\"Calculating...\")\n",
    "\n",
    "    time.sleep(2)\n",
    "\n",
    "    overallRate1 = (playerTotal1 * 100/30) \n",
    "    overallRate2 = (playerTotal2 * 100/30) # overall rating for the players\n",
    "    overallRate3 = (playerTotal3 * 100/30) \n",
    "    \n",
    "    salaryArray.append(overallRate1) \n",
    "    salaryArray.append(overallRate2) # store these values into the array\n",
    "    salaryArray.append(overallRate3) \n",
    "    \n",
    "    print(\"Your overall rating is \" + str(salaryArray[a]) + \" %\", playerList[a])\n",
    "\n",
    "def counterIncrementer(d, m, playerNum, a):\n",
    "    d += 1\n",
    "    m += 1\n",
    "    a += 1\n",
    "    playerNum += 1 # player counter increments by 1 per count \n",
    "    return d, m, playerNum, a # return the updated values \n",
    "\n",
    "    \n",
    "def main():   # learnt from realpython.com\n",
    "    c = 0 # counter for player collection skills\n",
    "    d = 0 # counter for player number\n",
    "    m = 0 # counter for date of birth \n",
    "    a = 0 # counter for outputting overall rate \n",
    "    playerNum = 0\n",
    "    playerBirthdayCount = 0\n",
    "    individualRating = []\n",
    "    IDQuery = 0\n",
    "    \n",
    "    while playerNum < 3:\n",
    "        player_id(UID, d)\n",
    "        age_determiner(m, playerBirthdayCount)\n",
    "        skills_collection(individualRating, c)\n",
    "        calculate_rating(individualRating, overallRate, a)\n",
    "        d, m, playerNum, a = counterIncrementer(d, m, playerNum, a)\n",
    "\n",
    "if __name__ == \"__main__\":\n",
    "    main()"
   ]
  },
  {
   "cell_type": "code",
   "execution_count": 17,
   "id": "34a88c18",
   "metadata": {},
   "outputs": [
    {
     "name": "stdout",
     "output_type": "stream",
     "text": [
      "1000\n",
      "400\n",
      "400\n"
     ]
    }
   ],
   "source": [
    "### conditional statements\n",
    "\n",
    "overallSalary = [1000, 700, 500, 400] # storing salaries into the list \n",
    "j = 0 # counter for the players overallrate \n",
    "\n",
    "def calculate_salary(j, salaryArray, overallSalary):\n",
    "    for i in range(3):\n",
    "        if salaryArray[j] >= 80:\n",
    "            print(overallSalary[0])\n",
    "            j += 1\n",
    "        elif 60 < salaryArray[j] < 80:\n",
    "            print(overallSalary[0], overallSalary[1])\n",
    "            j += 1\n",
    "        elif salaryArray[j] == 60:\n",
    "            print(overallSalary[1])\n",
    "            j += 1\n",
    "        elif 45 < salaryArray[j] < 60:\n",
    "            print(overallSalary[1], overallSalary[2])\n",
    "            j += 1\n",
    "        elif salaryArray[j] == 45:\n",
    "            print(overallSalary[2])\n",
    "            j += 1\n",
    "        elif 30 < salaryArray[j] < 45:\n",
    "            print(overallSalary[2], overallSalary[3])\n",
    "            j += 1\n",
    "        elif salaryArray[j] <= 30:\n",
    "            print(overallSalary[3])\n",
    "            j += 1\n",
    "        \n",
    "calculate_salary(j, salaryArray, overallSalary) # function call for the calculate_salary function to output a given salary based on players capabilities\n"
   ]
  },
  {
   "cell_type": "code",
   "execution_count": null,
   "id": "a4faf9f1",
   "metadata": {},
   "outputs": [],
   "source": []
  }
 ],
 "metadata": {
  "kernelspec": {
   "display_name": "Python 3 (ipykernel)",
   "language": "python",
   "name": "python3"
  },
  "language_info": {
   "codemirror_mode": {
    "name": "ipython",
    "version": 3
   },
   "file_extension": ".py",
   "mimetype": "text/x-python",
   "name": "python",
   "nbconvert_exporter": "python",
   "pygments_lexer": "ipython3",
   "version": "3.10.9"
  }
 },
 "nbformat": 4,
 "nbformat_minor": 5
}
